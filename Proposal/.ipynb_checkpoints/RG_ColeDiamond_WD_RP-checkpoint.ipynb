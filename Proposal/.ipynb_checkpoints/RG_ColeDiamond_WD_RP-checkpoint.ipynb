{
 "cells": [
  {
   "cell_type": "markdown",
   "metadata": {},
   "source": [
    "#Project Proposal\n",
    "\n",
    "## Cole D"
   ]
  },
  {
   "cell_type": "markdown",
   "metadata": {},
   "source": [
    "What is the problem you are addressing?\n",
    "What has been done already?\n",
    "What are the questions you are trying to answer?\n",
    "What methodology are you planning to use?\n",
    "What data do you have available?"
   ]
  },
  {
   "cell_type": "markdown",
   "metadata": {
    "collapsed": true
   },
   "source": [
    "What is your general project idea? Write a short paragraph\n",
    "\n",
    "The general project idea is to identify latent topics in a set of corpuses. We assume that there are a fixed universe of topics that produce documents in a corpus. Each document is seen as a distribution over possible corpus topics. \n",
    "\n",
    "Our project will sample from the posterior distribution of the Latent Dirichlet Allocation model. We use Gibbs sampling to sample from the conditionals of the posterior of Latent Dirichlet Allocation. We perform inference on a new, unseen document to predict the topics that it references.\n",
    "\n",
    "What techniques from the lecture are your planning to use?\n",
    "\n",
    "1. gibbs sampling\n",
    "2. bayesian inference"
   ]
  },
  {
   "cell_type": "code",
   "execution_count": null,
   "metadata": {
    "collapsed": true
   },
   "outputs": [],
   "source": []
  }
 ],
 "metadata": {
  "kernelspec": {
   "display_name": "Python 2",
   "language": "python",
   "name": "python2"
  },
  "language_info": {
   "codemirror_mode": {
    "name": "ipython",
    "version": 2
   },
   "file_extension": ".py",
   "mimetype": "text/x-python",
   "name": "python",
   "nbconvert_exporter": "python",
   "pygments_lexer": "ipython2",
   "version": "2.7.9"
  }
 },
 "nbformat": 4,
 "nbformat_minor": 0
}
